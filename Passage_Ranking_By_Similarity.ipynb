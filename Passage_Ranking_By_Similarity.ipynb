{
 "cells": [
  {
   "cell_type": "markdown",
   "id": "5d36a4b3",
   "metadata": {},
   "source": [
    "# Passage Ranking by Similarity"
   ]
  },
  {
   "cell_type": "code",
   "execution_count": 36,
   "id": "577f3aa4",
   "metadata": {},
   "outputs": [],
   "source": [
    "from sentence_transformers import SentenceTransformer, util\n",
    "import pandas as pd"
   ]
  },
  {
   "cell_type": "markdown",
   "id": "0302b648",
   "metadata": {},
   "source": [
    "## Define the Concept of \"Open/Close Internet\" and Embed Both Policy Sentences and Queries"
   ]
  },
  {
   "cell_type": "code",
   "execution_count": 2,
   "id": "6ceeaddf",
   "metadata": {},
   "outputs": [
    {
     "name": "stdout",
     "output_type": "stream",
     "text": [
      "10 ['Toward this end, the Dutch government wants to work together more effectively with other parties on the security and the reliability of an open and free digital society.', 'The Netherlands stands for safe and reliable ICT1 and the protection of the openness and freedom of the Internet.', 'The goal of this is to play an active role, in the global context of an open and transparent dialogue, of touching upon topics which can contribute to this strategy, such as improving the game rules on the Internet and combating abuse.', 'Privacy, respect for others and fundamental rights such as the freedom of expression and information gathering must be maintained. ', 'An appropriate balance must remain between, on the one hand, our desire for public and national security and, on the other, the safeguarding of our fundamental rights. ', 'Cyberspace is a global common and no country can control a piece of this global common.', 'To enhance global cooperation by promoting shared understanding and leveraging relationships for furthering the cause of security of cyberspace.', 'Persist in managing and governing the web in a lawful, open and transparent manner.', 'World Internet Conference and other such global Internet sharing and common governance platforms, and jointly promote the healthy development of the Internet. ', 'Through vigorous and eective international cooperation, establish a multi-lateral, Close and accept democratic and transparent international Internet governance system, and jointly build a peaceful, secure, open, cooperative and orderly cyberspace.']\n",
      "13 [\"Within a state's borders, a state will be controlling its own cyberspace.\\xa0\", '…guide China’s cybersecurity work and safeguard the country’s interests in the sovereignty, security and development of cyberspace, this Strategy is formulated.', 'No infringement of sovereignty in cyberspace will be tolerated.', 'Cyberspace is a new territory for national sovereignty.\\xa0', 'No country should engage in cyber hegemonies, uphold double standards, use the network to interfere in the domestic affairs of other countries, or engage in, connive in or support online activities endangering other countries’ national security.', 'The peoples of all countries are to decide on cyber affairs within the scope of sovereignty of all countries, all countries have the right to formulate laws and regulations concerning cyberspace on the basis of their national circumstances and learning from international experience, to adopt necessary measures according to the law, to manage their national information systems and online affairs within their national territories.', 'China will devote itself to safeguarding the nation’s interests in sovereignty, security and development in cyberspace.\\xa0', 'It promotes that the Internet enriches humanity, and promotes the peaceful use and common governance of cyberspace.', 'New territories for national sovereignty. Cyberspace has become a new area for important human activity of equal importance to land, sea, air and space, national sovereignty has extended and stretched into cyberspace, sovereignty in cyberspace has become an important component part of national sovereignty.\\xa0', 'Respect for sovereignty in cyberspace, safeguarding cybersecurity.', 'Resolutely defending sovereignty in cyberspace.', 'Manage online activities within the scope of our country’s sovereignty according to the Constitution, laws and regulations, protect the security of our country’s information infrastructure and information resources, adopt all measures, …, to unwaveringly uphold our country’s sovereignty in cyberspace.\\xa0', 'Resolutely oppose all actions to subvert our country’s national regime or destroy our country’s sovereignty through the network.']\n"
     ]
    }
   ],
   "source": [
    "open_internet_queries = pd.read_csv('open_internet.csv')['Sentences'].to_list()\n",
    "\n",
    "close_internet_queries = pd.read_csv('close_internet.csv')['Sentences'].to_list()\n",
    "\n",
    "print(len(open_internet_queries), open_internet_queries)\n",
    "\n",
    "print(len(close_internet_queries), close_internet_queries)"
   ]
  },
  {
   "cell_type": "code",
   "execution_count": 3,
   "id": "16447175",
   "metadata": {},
   "outputs": [
    {
     "name": "stdout",
     "output_type": "stream",
     "text": [
      "6\n",
      "internet providers shall respect device neutrality by not limiting the right to use the internet on any legal device that does not impair use of the net or the quality of service\n",
      "The FCC was chartered to promote competition, innovation, and investment in our networks. In service of that mission, there is no higher calling than protecting an open, accessible, and free Internet.\n",
      "guaranteeing the freedom of mass information and the prohibition of censorship;\n",
      "internet providers shall not block or interfere in any way with the rights of the user to use any content, application or service on the internet\n",
      "It also reaffirms and recommits its partners to a single global Internet – one that is truly open and fosters competition, privacy, and respect for human rights. The Declaration’s principles include commitments to:\n",
      "An open Internet is essential to the American economy, and increasingly to our very way of life. By lowering the cost of launching a new idea, igniting new political movements, and bringing communities closer together, it has been one of the most significant democratizing influences the world has ever known.\n"
     ]
    }
   ],
   "source": [
    "# Load SBERT model\n",
    "model = SentenceTransformer('all-MiniLM-L6-v2')\n",
    "\n",
    "open_internet_test, close_internet_test = pd.read_csv('open_internet_test.csv').dropna()['Sentences'].to_list(), pd.read_csv('close_internet_test.csv').dropna()['Sentences'].to_list()\n",
    "# Your list of policy document sentences\n",
    "sentences = open_internet_test\n",
    "\n",
    "sentences = list(set(sentences))\n",
    "\n",
    "print(len(sentences))\n",
    "for i in sentences: print(i)\n",
    "\n",
    "# Encode both\n",
    "sentence_embeddings = model.encode(sentences, convert_to_tensor=True)\n",
    "open_internet_query_embeddings = model.encode(open_internet_queries, convert_to_tensor=True)\n",
    "close_internet_query_embeddings = model.encode(close_internet_queries, convert_to_tensor=True)"
   ]
  },
  {
   "cell_type": "markdown",
   "id": "2aa1751d",
   "metadata": {},
   "source": [
    "## Compute Semantic Similarity and Label Sentences Based on a Threshold"
   ]
  },
  {
   "cell_type": "markdown",
   "id": "c1947a87",
   "metadata": {},
   "source": [
    "### Open & Closed"
   ]
  },
  {
   "cell_type": "code",
   "execution_count": null,
   "id": "7cf0dad6",
   "metadata": {},
   "outputs": [
    {
     "name": "stdout",
     "output_type": "stream",
     "text": [
      "Ranking sentences by \"openness: \n",
      "\n",
      "0.61 - guaranteeing the freedom of mass information and the prohibition of censorship;\n",
      "0.57 - It also reaffirms and recommits its partners to a single global Internet – one that is truly open and fosters competition, privacy, and respect for human rights. The Declaration’s principles include commitments to:\n",
      "0.54 - An open Internet is essential to the American economy, and increasingly to our very way of life. By lowering the cost of launching a new idea, igniting new political movements, and bringing communities closer together, it has been one of the most significant democratizing influences the world has ever known.\n",
      "0.50 - internet providers shall not block or interfere in any way with the rights of the user to use any content, application or service on the internet\n",
      "0.47 - internet providers shall respect device neutrality by not limiting the right to use the internet on any legal device that does not impair use of the net or the quality of service\n",
      "0.35 - The FCC was chartered to promote competition, innovation, and investment in our networks. In service of that mission, there is no higher calling than protecting an open, accessible, and free Internet.\n"
     ]
    }
   ],
   "source": [
    "print('Ranking sentences by \"openness: \\n')\n",
    "# Compute cosine similarity\n",
    "cos_scores = util.cos_sim(sentence_embeddings, open_internet_query_embeddings)  # shape: (num_sentences, num_queries)\n",
    "\n",
    "# For each sentence, get the max similarity across all queries\n",
    "max_scores = cos_scores.max(dim=1).values  # best match per sentence\n",
    "\n",
    "sorted_indices = max_scores.argsort(descending=True)\n",
    "for idx in sorted_indices:\n",
    "    print(f\"{max_scores[idx]:.2f} - {sentences[idx]}\")\n",
    "# threshold = 0.5\n",
    "# labels = [\"Relevant\" if score > threshold else \"Irrelevant\" for score in max_scores]\n",
    "\n",
    "# for sentence, label, score in zip(sentences, labels, max_scores):\n",
    "#     print(f\"[{label} | score={score:.2f}] {sentence}\")\n",
    "\n"
   ]
  },
  {
   "cell_type": "code",
   "execution_count": 33,
   "id": "72db2c6f",
   "metadata": {},
   "outputs": [
    {
     "name": "stdout",
     "output_type": "stream",
     "text": [
      "Ranking sentences by \"closedness: \n",
      "\n",
      "[Relevant | score=0.60] An open Internet is essential to the American economy, and increasingly to our very way of life. By lowering the cost of launching a new idea, igniting new political movements, and bringing communities closer together, it has been one of the most significant democratizing influences the world has ever known.\n",
      "[Relevant | score=0.52] internet providers shall not block or interfere in any way with the rights of the user to use any content, application or service on the internet\n",
      "[Relevant | score=0.60] It also reaffirms and recommits its partners to a single global Internet – one that is truly open and fosters competition, privacy, and respect for human rights. The Declaration’s principles include commitments to:\n",
      "[Irrelevant | score=0.38] If a consumer requests access to a website or service, and the content is legal, your ISP should not be permitted to block it. That way, every player — not just those commercially affiliated with an ISP — gets a fair shot at your business.\n",
      "[Relevant | score=0.51] internet providers shall respect device neutrality by not limiting the right to use the internet on any legal device that does not impair use of the net or the quality of service\n",
      "[Irrelevant | score=0.39] The FCC was chartered to promote competition, innovation, and investment in our networks. In service of that mission, there is no higher calling than protecting an open, accessible, and free Internet.\n"
     ]
    }
   ],
   "source": [
    "print('Ranking sentences by \"closedness: \\n')\n",
    "# Compute cosine similarity\n",
    "cos_scores = util.cos_sim(sentence_embeddings, close_internet_query_embeddings)  # shape: (num_sentences, num_queries)\n",
    "\n",
    "# For each sentence, get the max similarity across all queries\n",
    "max_scores = cos_scores.max(dim=1).values  # best match per sentence\n",
    "\n",
    "threshold = 0.5\n",
    "labels = [\"Relevant\" if score > threshold else \"Irrelevant\" for score in max_scores]\n",
    "\n",
    "# Output\n",
    "for sentence, label, score in zip(sentences, labels, max_scores):\n",
    "    print(f\"[{label} | score={score:.2f}] {sentence}\")\n",
    "\n",
    "# sorted_indices = max_scores.argsort(descending=True)\n",
    "# for idx in sorted_indices:\n",
    "#     print(f\"{max_scores[idx]:.2f} - {sentences[idx]}\")"
   ]
  },
  {
   "cell_type": "markdown",
   "id": "b397e6cb",
   "metadata": {},
   "source": [
    "### Comparison"
   ]
  },
  {
   "cell_type": "code",
   "execution_count": 52,
   "id": "686b9386",
   "metadata": {},
   "outputs": [
    {
     "name": "stdout",
     "output_type": "stream",
     "text": [
      "Comparing \"openness\" vs \"closedness\" scores for each sentence:\n",
      "\n",
      "[Open: Relevant|0.54] [Closed: Relevant|0.60] [MORE CLOSED] An open Internet is essential to the American economy, and increasingly to our very way of life. By lowering the cost of launching a new idea, igniting new political movements, and bringing communities closer together, it has been one of the most significant democratizing influences the world has ever known.\n",
      "[Open: Irrelevant|0.50] [Closed: Relevant|0.52] [MORE CLOSED] internet providers shall not block or interfere in any way with the rights of the user to use any content, application or service on the internet\n",
      "[Open: Relevant|0.57] [Closed: Relevant|0.60] [MORE CLOSED] It also reaffirms and recommits its partners to a single global Internet – one that is truly open and fosters competition, privacy, and respect for human rights. The Declaration’s principles include commitments to:\n",
      "[Open: Relevant|0.61] [Closed: Relevant|0.50] [MORE OPEN] guaranteeing the freedom of mass information and the prohibition of censorship;\n",
      "[Open: Irrelevant|0.47] [Closed: Relevant|0.51] [MORE CLOSED] internet providers shall respect device neutrality by not limiting the right to use the internet on any legal device that does not impair use of the net or the quality of service\n",
      "[Open: Irrelevant|0.35] [Closed: Irrelevant|0.39] [MORE CLOSED] The FCC was chartered to promote competition, innovation, and investment in our networks. In service of that mission, there is no higher calling than protecting an open, accessible, and free Internet.\n"
     ]
    }
   ],
   "source": [
    "from sentence_transformers import util\n",
    "\n",
    "# Compute cosine similarities\n",
    "open_cos_scores = util.cos_sim(sentence_embeddings, open_internet_query_embeddings)\n",
    "close_cos_scores = util.cos_sim(sentence_embeddings, close_internet_query_embeddings)\n",
    "\n",
    "# Max similarity per sentence across multiple queries\n",
    "open_scores = open_cos_scores.max(dim=1).values\n",
    "close_scores = close_cos_scores.max(dim=1).values\n",
    "\n",
    "# Set relevance threshold\n",
    "threshold = 0.5\n",
    "open_labels = [\"Relevant\" if score > threshold else \"Irrelevant\" for score in open_scores]\n",
    "close_labels = [\"Relevant\" if score > threshold else \"Irrelevant\" for score in close_scores]\n",
    "\n",
    "# Output: Print side-by-side comparison\n",
    "print('Comparing \"openness\" vs \"closedness\" scores for each sentence:\\n')\n",
    "for sentence, o_score, o_label, c_score, c_label in zip(sentences, open_scores, open_labels, close_scores, close_labels):\n",
    "    if o_score > c_score: tendency = 'MORE OPEN'\n",
    "    else: tendency = 'MORE CLOSED'\n",
    "    print(f\"[Open: {o_label}|{o_score:.2f}] [Closed: {c_label}|{c_score:.2f}] [{tendency}] {sentence}\")\n"
   ]
  },
  {
   "cell_type": "markdown",
   "id": "fa7c4905",
   "metadata": {},
   "source": [
    "# Using Augmented Data"
   ]
  },
  {
   "cell_type": "code",
   "execution_count": 46,
   "id": "c59e63ab",
   "metadata": {},
   "outputs": [],
   "source": [
    "from sentence_transformers import SentenceTransformer, util\n",
    "import pandas as pd"
   ]
  },
  {
   "cell_type": "code",
   "execution_count": 47,
   "id": "77a169f0",
   "metadata": {},
   "outputs": [],
   "source": [
    "open_internet_queries = pd.read_excel('Open_Sentences_ChatGPT.xlsx')['Sentences'].to_list()\n",
    "close_internet_queries = pd.read_excel('Closed_Sentences_ChatGPT.xlsx')['Sentences'].to_list()\n",
    "open_internet_query_embeddings = model.encode(open_internet_queries, convert_to_tensor=True)\n",
    "close_internet_query_embeddings = model.encode(close_internet_queries, convert_to_tensor=True)"
   ]
  },
  {
   "cell_type": "code",
   "execution_count": 48,
   "id": "3eabcf75",
   "metadata": {},
   "outputs": [
    {
     "name": "stdout",
     "output_type": "stream",
     "text": [
      "16 ['The Netherlands stands for safe and reliable ICT1 and the protection of the openness and freedom of the Internet.', 'Through vigorous and eective international cooperation, establish a multi-lateral, Close and accept democratic and transparent international Internet governance system, and jointly build a peaceful, secure, open, cooperative and orderly cyberspace.', 'The FCC was chartered to promote competition, innovation, and investment in our networks. In service of that mission, there is no higher calling than protecting an open, accessible, and free Internet.', 'internet providers shall respect device neutrality by not limiting the right to use the internet on any legal device that does not impair use of the net or the quality of service', 'The goal of this is to play an active role, in the global context of an open and transparent dialogue, of touching upon topics which can contribute to this strategy, such as improving the game rules on the Internet and combating abuse.', 'guaranteeing the freedom of mass information and the prohibition of censorship;', 'internet providers shall not block or interfere in any way with the rights of the user to use any content, application or service on the internet', 'Cyberspace is a global common and no country can control a piece of this global common.', 'It also reaffirms and recommits its partners to a single global Internet – one that is truly open and fosters competition, privacy, and respect for human rights. The Declaration’s principles include commitments to:', 'Toward this end, the Dutch government wants to work together more effectively with other parties on the security and the reliability of an open and free digital society.', 'An appropriate balance must remain between, on the one hand, our desire for public and national security and, on the other, the safeguarding of our fundamental rights. ', 'Privacy, respect for others and fundamental rights such as the freedom of expression and information gathering must be maintained. ', 'An open Internet is essential to the American economy, and increasingly to our very way of life. By lowering the cost of launching a new idea, igniting new political movements, and bringing communities closer together, it has been one of the most significant democratizing influences the world has ever known.', 'To enhance global cooperation by promoting shared understanding and leveraging relationships for furthering the cause of security of cyberspace.', 'World Internet Conference and other such global Internet sharing and common governance platforms, and jointly promote the healthy development of the Internet. ', 'Persist in managing and governing the web in a lawful, open and transparent manner.']\n"
     ]
    }
   ],
   "source": [
    "open_internet = pd.read_csv('open_internet.csv')['Sentences'].to_list()\n",
    "\n",
    "close_internet = pd.read_csv('close_internet.csv')['Sentences'].to_list()\n",
    "\n",
    "open_internet_test, close_internet_test = pd.read_csv('open_internet_test.csv').dropna()['Sentences'].to_list(), pd.read_csv('close_internet_test.csv').dropna()['Sentences'].to_list()\n",
    "\n",
    "sentences = open_internet + open_internet_test \n",
    "sentences = list(set(sentences))\n",
    "sentence_embeddings = model.encode(sentences, convert_to_tensor=True)\n",
    "print(len(sentences), sentences)"
   ]
  },
  {
   "cell_type": "code",
   "execution_count": 49,
   "id": "3b5c908e",
   "metadata": {},
   "outputs": [
    {
     "name": "stdout",
     "output_type": "stream",
     "text": [
      "Classifying open-internet-opinion sentences:\n",
      "\n",
      "[Open: Relevant|0.57] [Closed: Relevant|0.51] [MORE OPEN] The Netherlands stands for safe and reliable ICT1 and the protection of the openness and freedom of the Internet.\n",
      "[Open: Relevant|0.69] [Closed: Relevant|0.65] [MORE OPEN] Through vigorous and eective international cooperation, establish a multi-lateral, Close and accept democratic and transparent international Internet governance system, and jointly build a peaceful, secure, open, cooperative and orderly cyberspace.\n",
      "[Open: Irrelevant|0.47] [Closed: Irrelevant|0.42] [MORE OPEN] The FCC was chartered to promote competition, innovation, and investment in our networks. In service of that mission, there is no higher calling than protecting an open, accessible, and free Internet.\n",
      "[Open: Relevant|0.74] [Closed: Relevant|0.61] [MORE OPEN] internet providers shall respect device neutrality by not limiting the right to use the internet on any legal device that does not impair use of the net or the quality of service\n",
      "[Open: Irrelevant|0.50] [Closed: Irrelevant|0.45] [MORE OPEN] The goal of this is to play an active role, in the global context of an open and transparent dialogue, of touching upon topics which can contribute to this strategy, such as improving the game rules on the Internet and combating abuse.\n",
      "[Open: Relevant|0.65] [Closed: Relevant|0.69] [MORE CLOSED] guaranteeing the freedom of mass information and the prohibition of censorship;\n",
      "[Open: Relevant|0.63] [Closed: Relevant|0.67] [MORE CLOSED] internet providers shall not block or interfere in any way with the rights of the user to use any content, application or service on the internet\n",
      "[Open: Relevant|0.66] [Closed: Relevant|0.75] [MORE CLOSED] Cyberspace is a global common and no country can control a piece of this global common.\n",
      "[Open: Relevant|0.66] [Closed: Relevant|0.62] [MORE OPEN] It also reaffirms and recommits its partners to a single global Internet – one that is truly open and fosters competition, privacy, and respect for human rights. The Declaration’s principles include commitments to:\n",
      "[Open: Relevant|0.55] [Closed: Irrelevant|0.47] [MORE OPEN] Toward this end, the Dutch government wants to work together more effectively with other parties on the security and the reliability of an open and free digital society.\n",
      "[Open: Relevant|0.71] [Closed: Relevant|0.53] [MORE OPEN] An appropriate balance must remain between, on the one hand, our desire for public and national security and, on the other, the safeguarding of our fundamental rights. \n",
      "[Open: Relevant|0.68] [Closed: Relevant|0.58] [MORE OPEN] Privacy, respect for others and fundamental rights such as the freedom of expression and information gathering must be maintained. \n",
      "[Open: Relevant|0.81] [Closed: Relevant|0.66] [MORE OPEN] An open Internet is essential to the American economy, and increasingly to our very way of life. By lowering the cost of launching a new idea, igniting new political movements, and bringing communities closer together, it has been one of the most significant democratizing influences the world has ever known.\n",
      "[Open: Relevant|0.67] [Closed: Relevant|0.57] [MORE OPEN] To enhance global cooperation by promoting shared understanding and leveraging relationships for furthering the cause of security of cyberspace.\n",
      "[Open: Relevant|0.66] [Closed: Relevant|0.59] [MORE OPEN] World Internet Conference and other such global Internet sharing and common governance platforms, and jointly promote the healthy development of the Internet. \n",
      "[Open: Relevant|0.51] [Closed: Irrelevant|0.49] [MORE OPEN] Persist in managing and governing the web in a lawful, open and transparent manner.\n",
      "{'open': 13, 'close': 3}\n"
     ]
    }
   ],
   "source": [
    "# Compute cosine similarities\n",
    "open_cos_scores = util.cos_sim(sentence_embeddings, open_internet_query_embeddings)\n",
    "close_cos_scores = util.cos_sim(sentence_embeddings, close_internet_query_embeddings)\n",
    "\n",
    "# Max similarity per sentence across multiple queries\n",
    "open_scores = open_cos_scores.max(dim=1).values\n",
    "close_scores = close_cos_scores.max(dim=1).values\n",
    "\n",
    "# Set relevance threshold\n",
    "threshold = 0.5\n",
    "open_labels = [\"Relevant\" if score > threshold else \"Irrelevant\" for score in open_scores]\n",
    "close_labels = [\"Relevant\" if score > threshold else \"Irrelevant\" for score in close_scores]\n",
    "\n",
    "# Output: Print side-by-side comparison\n",
    "print('Classifying open-internet-opinion sentences:\\n')\n",
    "tendency_stats = {}\n",
    "tendency_stats['open'] = 0\n",
    "tendency_stats['close'] = 0\n",
    "for sentence, o_score, o_label, c_score, c_label in zip(sentences, open_scores, open_labels, close_scores, close_labels):\n",
    "    if o_score > c_score: \n",
    "        tendency = 'MORE OPEN'\n",
    "        tendency_stats['open'] += 1\n",
    "    else: \n",
    "        tendency = 'MORE CLOSED'\n",
    "        tendency_stats['close'] += 1\n",
    "    print(f\"[Open: {o_label}|{o_score:.2f}] [Closed: {c_label}|{c_score:.2f}] [{tendency}] {sentence}\")\n",
    "print(tendency_stats)"
   ]
  },
  {
   "cell_type": "code",
   "execution_count": 40,
   "id": "fe297d5b",
   "metadata": {},
   "outputs": [
    {
     "name": "stdout",
     "output_type": "stream",
     "text": [
      "15 ['No infringement of sovereignty in cyberspace will be tolerated.', 'New territories for national sovereignty. Cyberspace has become a new area for important human activity of equal importance to land, sea, air and space, national sovereignty has extended and stretched into cyberspace, sovereignty in cyberspace has become an important component part of national sovereignty.\\xa0', 'Respect for sovereignty in cyberspace, safeguarding cybersecurity.', 'facilitating the development of an international information security system aimed at countering threats of the use of information technologies to compromise the strategic stability, at strengthening equal strategic partnership in the sphere of information security, as well as protecting the information sovereignty of the Russian Federation', \"Within a state's borders, a state will be controlling its own cyberspace.\\xa0\", 'Resolutely defending sovereignty in cyberspace.', 'Manage online activities within the scope of our country’s sovereignty according to the Constitution, laws and regulations, protect the security of our country’s information infrastructure and information resources, adopt all measures, …, to unwaveringly uphold our country’s sovereignty in cyberspace.\\xa0', '…guide China’s cybersecurity work and safeguard the country’s interests in the sovereignty, security and development of cyberspace, this Strategy is formulated.', 'Resolutely oppose all actions to subvert our country’s national regime or destroy our country’s sovereignty through the network.', 'No country should engage in cyber hegemonies, uphold double standards, use the network to interfere in the domestic affairs of other countries, or engage in, connive in or support online activities endangering other countries’ national security.', 'China will devote itself to safeguarding the nation’s interests in sovereignty, security and development in cyberspace.\\xa0', 'This Law is formulated in order to: ensure cybersecurity; safeguard cyberspace sovereignty and national security, and social and public interests', 'It promotes that the Internet enriches humanity, and promotes the peaceful use and common governance of cyberspace.', 'Cyberspace is a new territory for national sovereignty.\\xa0', 'The peoples of all countries are to decide on cyber affairs within the scope of sovereignty of all countries, all countries have the right to formulate laws and regulations concerning cyberspace on the basis of their national circumstances and learning from international experience, to adopt necessary measures according to the law, to manage their national information systems and online affairs within their national territories.']\n"
     ]
    }
   ],
   "source": [
    "sentences = close_internet + close_internet_test \n",
    "sentences = list(set(sentences))\n",
    "sentence_embeddings = model.encode(sentences, convert_to_tensor=True)\n",
    "print(len(sentences), sentences)"
   ]
  },
  {
   "cell_type": "code",
   "execution_count": 44,
   "id": "4d786d7a",
   "metadata": {},
   "outputs": [
    {
     "name": "stdout",
     "output_type": "stream",
     "text": [
      "Classifying close-internet-opinion sentences:\n",
      "\n",
      "[Open: Relevant|0.62] [Closed: Relevant|0.73] [MORE CLOSED] No infringement of sovereignty in cyberspace will be tolerated.\n",
      "[Open: Relevant|0.62] [Closed: Relevant|0.82] [MORE CLOSED] New territories for national sovereignty. Cyberspace has become a new area for important human activity of equal importance to land, sea, air and space, national sovereignty has extended and stretched into cyberspace, sovereignty in cyberspace has become an important component part of national sovereignty. \n",
      "[Open: Relevant|0.69] [Closed: Relevant|0.68] [MORE OPEN] Respect for sovereignty in cyberspace, safeguarding cybersecurity.\n",
      "[Open: Relevant|0.50] [Closed: Relevant|0.58] [MORE CLOSED] facilitating the development of an international information security system aimed at countering threats of the use of information technologies to compromise the strategic stability, at strengthening equal strategic partnership in the sphere of information security, as well as protecting the information sovereignty of the Russian Federation\n",
      "[Open: Relevant|0.58] [Closed: Relevant|0.71] [MORE CLOSED] Within a state's borders, a state will be controlling its own cyberspace. \n",
      "[Open: Relevant|0.61] [Closed: Relevant|0.72] [MORE CLOSED] Resolutely defending sovereignty in cyberspace.\n",
      "[Open: Relevant|0.69] [Closed: Relevant|0.77] [MORE CLOSED] Manage online activities within the scope of our country’s sovereignty according to the Constitution, laws and regulations, protect the security of our country’s information infrastructure and information resources, adopt all measures, …, to unwaveringly uphold our country’s sovereignty in cyberspace. \n",
      "[Open: Relevant|0.61] [Closed: Relevant|0.59] [MORE OPEN] …guide China’s cybersecurity work and safeguard the country’s interests in the sovereignty, security and development of cyberspace, this Strategy is formulated.\n",
      "[Open: Relevant|0.53] [Closed: Relevant|0.56] [MORE CLOSED] Resolutely oppose all actions to subvert our country’s national regime or destroy our country’s sovereignty through the network.\n",
      "[Open: Relevant|0.68] [Closed: Relevant|0.74] [MORE CLOSED] No country should engage in cyber hegemonies, uphold double standards, use the network to interfere in the domestic affairs of other countries, or engage in, connive in or support online activities endangering other countries’ national security.\n",
      "[Open: Relevant|0.59] [Closed: Relevant|0.58] [MORE OPEN] China will devote itself to safeguarding the nation’s interests in sovereignty, security and development in cyberspace. \n",
      "[Open: Relevant|0.64] [Closed: Relevant|0.62] [MORE OPEN] This Law is formulated in order to: ensure cybersecurity; safeguard cyberspace sovereignty and national security, and social and public interests\n",
      "[Open: Relevant|0.67] [Closed: Relevant|0.65] [MORE OPEN] It promotes that the Internet enriches humanity, and promotes the peaceful use and common governance of cyberspace.\n",
      "[Open: Relevant|0.69] [Closed: Relevant|0.84] [MORE CLOSED] Cyberspace is a new territory for national sovereignty. \n",
      "[Open: Relevant|0.75] [Closed: Relevant|0.85] [MORE CLOSED] The peoples of all countries are to decide on cyber affairs within the scope of sovereignty of all countries, all countries have the right to formulate laws and regulations concerning cyberspace on the basis of their national circumstances and learning from international experience, to adopt necessary measures according to the law, to manage their national information systems and online affairs within their national territories.\n",
      "{'open': 5, 'close': 10}\n"
     ]
    }
   ],
   "source": [
    "# Compute cosine similarities\n",
    "open_cos_scores = util.cos_sim(sentence_embeddings, open_internet_query_embeddings)\n",
    "close_cos_scores = util.cos_sim(sentence_embeddings, close_internet_query_embeddings)\n",
    "\n",
    "# Max similarity per sentence across multiple queries\n",
    "open_scores = open_cos_scores.max(dim=1).values\n",
    "close_scores = close_cos_scores.max(dim=1).values\n",
    "\n",
    "# Set relevance threshold\n",
    "threshold = 0.5\n",
    "open_labels = [\"Relevant\" if score > threshold else \"Irrelevant\" for score in open_scores]\n",
    "close_labels = [\"Relevant\" if score > threshold else \"Irrelevant\" for score in close_scores]\n",
    "\n",
    "tendency_stats = {}\n",
    "tendency_stats['open'] = 0\n",
    "tendency_stats['close'] = 0\n",
    "# Output: Print side-by-side comparison\n",
    "print('Classifying close-internet-opinion sentences:\\n')\n",
    "for sentence, o_score, o_label, c_score, c_label in zip(sentences, open_scores, open_labels, close_scores, close_labels):\n",
    "    if o_score > c_score: \n",
    "        tendency = 'MORE OPEN'\n",
    "        tendency_stats['open'] += 1\n",
    "    else: \n",
    "        tendency = 'MORE CLOSED'\n",
    "        tendency_stats['close'] += 1\n",
    "    print(f\"[Open: {o_label}|{o_score:.2f}] [Closed: {c_label}|{c_score:.2f}] [{tendency}] {sentence}\")\n",
    "\n",
    "print(tendency_stats)"
   ]
  }
 ],
 "metadata": {
  "kernelspec": {
   "display_name": "py312",
   "language": "python",
   "name": "python3"
  },
  "language_info": {
   "codemirror_mode": {
    "name": "ipython",
    "version": 3
   },
   "file_extension": ".py",
   "mimetype": "text/x-python",
   "name": "python",
   "nbconvert_exporter": "python",
   "pygments_lexer": "ipython3",
   "version": "3.12.8"
  }
 },
 "nbformat": 4,
 "nbformat_minor": 5
}
